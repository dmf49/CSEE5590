{
  "nbformat": 4,
  "nbformat_minor": 0,
  "metadata": {
    "colab": {
      "name": "DP-TF-MultiText.ipynb",
      "provenance": [],
      "collapsed_sections": [],
      "authorship_tag": "ABX9TyMKz2QrKAw9UlG45VG37cOF",
      "include_colab_link": true
    },
    "kernelspec": {
      "name": "python3",
      "display_name": "Python 3"
    },
    "language_info": {
      "name": "python"
    },
    "accelerator": "TPU"
  },
  "cells": [
    {
      "cell_type": "markdown",
      "metadata": {
        "id": "view-in-github",
        "colab_type": "text"
      },
      "source": [
        "<a href=\"https://colab.research.google.com/github/dmf49/CSEE5590/blob/main/DP_TF_MultiText.ipynb\" target=\"_parent\"><img src=\"https://colab.research.google.com/assets/colab-badge.svg\" alt=\"Open In Colab\"/></a>"
      ]
    },
    {
      "cell_type": "code",
      "execution_count": 1,
      "metadata": {
        "colab": {
          "base_uri": "https://localhost:8080/"
        },
        "id": "bwfT7VJbZJ_A",
        "outputId": "70e2194a-f32a-4494-fa5a-b4d3806af046"
      },
      "outputs": [
        {
          "output_type": "stream",
          "name": "stdout",
          "text": [
            "Requirement already satisfied: tensorflow-privacy==0.1.0 in /usr/local/lib/python3.7/dist-packages (0.1.0)\n",
            "Requirement already satisfied: mpmath in /usr/local/lib/python3.7/dist-packages (from tensorflow-privacy==0.1.0) (1.2.1)\n",
            "Requirement already satisfied: scipy>=0.17 in /usr/local/lib/python3.7/dist-packages (from tensorflow-privacy==0.1.0) (1.4.1)\n",
            "Requirement already satisfied: numpy>=1.13.3 in /usr/local/lib/python3.7/dist-packages (from scipy>=0.17->tensorflow-privacy==0.1.0) (1.21.5)\n"
          ]
        }
      ],
      "source": [
        "!pip install tensorflow-privacy==0.1.0\n"
      ]
    },
    {
      "cell_type": "code",
      "source": [
        "import tensorflow as tf\n",
        "print(tf.__version__)\n",
        "import matplotlib.pyplot as plt\n",
        "\n",
        "from absl import app\n",
        "from absl import flags\n",
        "from absl import logging\n",
        "\n",
        "\n",
        "import tensorflow as tf\n",
        "import numpy as np\n",
        "from sklearn import metrics\n",
        "from sklearn.metrics import confusion_matrix\n",
        "from keras.preprocessing.text import Tokenizer\n",
        "from keras.preprocessing.sequence import pad_sequences\n",
        "from nltk.corpus import stopwords\n",
        "from sklearn.metrics import log_loss, accuracy_score"
      ],
      "metadata": {
        "colab": {
          "base_uri": "https://localhost:8080/"
        },
        "id": "yfshdpoxZfzJ",
        "outputId": "4e3d1862-d31e-40ca-c33a-e7d03d80a9cf"
      },
      "execution_count": 2,
      "outputs": [
        {
          "output_type": "stream",
          "name": "stdout",
          "text": [
            "2.8.0\n"
          ]
        }
      ]
    },
    {
      "cell_type": "code",
      "source": [
        "import nltk\n",
        "nltk.download('stopwords')"
      ],
      "metadata": {
        "colab": {
          "base_uri": "https://localhost:8080/"
        },
        "id": "tjqihNGDZkI-",
        "outputId": "f9d0b292-664b-42fd-d965-ff78cdcecf36"
      },
      "execution_count": 3,
      "outputs": [
        {
          "output_type": "stream",
          "name": "stdout",
          "text": [
            "[nltk_data] Downloading package stopwords to /root/nltk_data...\n",
            "[nltk_data]   Package stopwords is already up-to-date!\n"
          ]
        },
        {
          "output_type": "execute_result",
          "data": {
            "text/plain": [
              "True"
            ]
          },
          "metadata": {},
          "execution_count": 3
        }
      ]
    },
    {
      "cell_type": "code",
      "source": [
        "STOPWORDS = set(stopwords.words('english'))\n",
        "\n",
        "import pandas as pd\n",
        "from sklearn import preprocessing\n",
        "\n",
        "\n",
        "from privacy.analysis.rdp_accountant import compute_rdp\n",
        "from privacy.analysis.rdp_accountant import get_privacy_spent\n",
        "from privacy.optimizers.dp_optimizer import DPAdamGaussianOptimizer"
      ],
      "metadata": {
        "id": "C6a5B90fZnqH"
      },
      "execution_count": 4,
      "outputs": []
    },
    {
      "cell_type": "code",
      "source": [
        "GradientDescentOptimizer = tf.compat.v1.train.GradientDescentOptimizer\n",
        "AdamOptimizer = tf.compat.v1.train.AdamOptimizer\n",
        "\n",
        "flags.DEFINE_boolean(\n",
        "    'dpsgd', True, 'If True, train with DP-SGD. If False, '\n",
        "    'train with vanilla SGD.')\n",
        "flags.DEFINE_float('learning_rate', 0.005, 'Learning rate for training')\n",
        "flags.DEFINE_float('noise_multiplier', 1.1,\n",
        "                   'Ratio of the standard deviation to the clipping norm')\n",
        "flags.DEFINE_float('l2_norm_clip', 1.0, 'Clipping norm')\n",
        "flags.DEFINE_integer('batch_size', 250, 'Batch size')\n",
        "flags.DEFINE_integer('epochs', 60, 'Number of epochs')\n",
        "flags.DEFINE_integer(\n",
        "    'microbatches', 250, 'Number of microbatches '\n",
        "    '(must evenly divide batch_size)')\n",
        "flags.DEFINE_string('model_dir', None, 'Model directory')\n",
        "\n",
        "FLAGS = flags.FLAGS\n",
        "\n",
        "embedding_dim = 100\n",
        "max_length = 2000"
      ],
      "metadata": {
        "id": "-PzBlhbmZzEi"
      },
      "execution_count": 5,
      "outputs": []
    },
    {
      "cell_type": "code",
      "source": [
        "def plot_graphs(history, string):\n",
        "    plt.plot(history.history[string])\n",
        "    plt.plot(history.history['val_' + string])\n",
        "    plt.xlabel(\"Epochs\")\n",
        "    plt.ylabel(string)\n",
        "    plt.legend([string, 'val_' + string])\n",
        "    plt.show()\n",
        "\n",
        "\n",
        "\n",
        "def compute_epsilon(steps):\n",
        "  \"\"\"Computes epsilon value for given hyperparameters.\"\"\"\n",
        "  orders = [1 + x / 10. for x in range(1, 100)] + list(range(12, 64))\n",
        "  sampling_probability = 250 / 60000\n",
        "  rdp = compute_rdp(q=sampling_probability,\n",
        "                    noise_multiplier=1.1,\n",
        "                    steps=steps,\n",
        "                    orders=orders)\n",
        "\n",
        "  # Delta is set to 1e-5 because product_reviews has 70000 training points.\n",
        "  return get_privacy_spent(orders, rdp, target_delta=1e-5)[0]"
      ],
      "metadata": {
        "id": "xLiQqnxHZ2Qs"
      },
      "execution_count": 6,
      "outputs": []
    },
    {
      "cell_type": "code",
      "source": [
        "from google.colab import drive\n",
        "drive.mount('/content/drive')"
      ],
      "metadata": {
        "colab": {
          "base_uri": "https://localhost:8080/"
        },
        "id": "sM-yTiyqZ3r2",
        "outputId": "cf43cdd4-7df3-4ac0-ec08-fbfc1d5bceda"
      },
      "execution_count": 7,
      "outputs": [
        {
          "output_type": "stream",
          "name": "stdout",
          "text": [
            "Drive already mounted at /content/drive; to attempt to forcibly remount, call drive.mount(\"/content/drive\", force_remount=True).\n"
          ]
        }
      ]
    },
    {
      "cell_type": "code",
      "source": [
        "df = pd.read_csv(\"/content/drive/MyDrive/project_mod/rows.csv\")\n"
      ],
      "metadata": {
        "colab": {
          "base_uri": "https://localhost:8080/"
        },
        "id": "uSBHDlfTaQPt",
        "outputId": "035b0cb5-9ccb-407f-c720-129d18d3aa0d"
      },
      "execution_count": 8,
      "outputs": [
        {
          "output_type": "stream",
          "name": "stderr",
          "text": [
            "/usr/local/lib/python3.7/dist-packages/IPython/core/interactiveshell.py:2882: DtypeWarning: Columns (4,5,6,11,16) have mixed types.Specify dtype option on import or set low_memory=False.\n",
            "  exec(code_obj, self.user_global_ns, self.user_ns)\n"
          ]
        }
      ]
    },
    {
      "cell_type": "code",
      "source": [
        "print(df.head(2))\n",
        "\n",
        "    # Create a new dataframe with two columns\n",
        "df1 = df[['Product', 'Consumer complaint narrative']].copy()\n",
        "\n",
        "df1 = df1[pd.notnull(df1['Consumer complaint narrative'])]\n",
        "\n",
        "    # Renaming second column\n",
        "df1.columns = ['Product', 'Consumer_complaint']\n",
        "\n",
        "    # Percentage of complaints with text\n",
        "total = df1['Consumer_complaint'].notnull().sum()\n",
        "round((total / len(df) * 100), 1)\n",
        "\n",
        "print(pd.DataFrame(df.Product.unique()).values)\n",
        "\n",
        "df2 = df1.sample(10000, random_state=1).copy()"
      ],
      "metadata": {
        "colab": {
          "base_uri": "https://localhost:8080/"
        },
        "id": "cEh-eiJFaWAS",
        "outputId": "d998632a-8080-4168-ed6e-2fc7e2eb2459"
      },
      "execution_count": 9,
      "outputs": [
        {
          "output_type": "stream",
          "name": "stdout",
          "text": [
            "  Date received                      Product  \\\n",
            "0    05/10/2019  Checking or savings account   \n",
            "1    05/10/2019  Checking or savings account   \n",
            "\n",
            "                        Sub-product                Issue  \\\n",
            "0                  Checking account  Managing an account   \n",
            "1  Other banking product or service  Managing an account   \n",
            "\n",
            "                           Sub-issue Consumer complaint narrative  \\\n",
            "0  Problem using a debit or ATM card                          NaN   \n",
            "1           Deposits and withdrawals                          NaN   \n",
            "\n",
            "  Company public response                        Company State ZIP code  \\\n",
            "0                     NaN      NAVY FEDERAL CREDIT UNION    FL    328XX   \n",
            "1                     NaN  BOEING EMPLOYEES CREDIT UNION    WA    98204   \n",
            "\n",
            "             Tags Consumer consent provided? Submitted via  \\\n",
            "0  Older American                        NaN           Web   \n",
            "1             NaN                        NaN      Referral   \n",
            "\n",
            "  Date sent to company Company response to consumer Timely response?  \\\n",
            "0           05/10/2019                  In progress              Yes   \n",
            "1           05/10/2019      Closed with explanation              Yes   \n",
            "\n",
            "  Consumer disputed?  Complaint ID  \n",
            "0                NaN       3238275  \n",
            "1                NaN       3238228  \n",
            "[['Checking or savings account']\n",
            " ['Debt collection']\n",
            " ['Credit reporting, credit repair services, or other personal consumer reports']\n",
            " ['Mortgage']\n",
            " ['Student loan']\n",
            " ['Vehicle loan or lease']\n",
            " ['Credit card or prepaid card']\n",
            " ['Payday loan, title loan, or personal loan']\n",
            " ['Money transfer, virtual currency, or money service']\n",
            " ['Credit reporting']\n",
            " ['Credit card']\n",
            " ['Bank account or service']\n",
            " ['Consumer Loan']\n",
            " ['Prepaid card']\n",
            " ['Other financial service']\n",
            " ['Payday loan']\n",
            " ['Money transfers']\n",
            " ['Virtual currency']]\n"
          ]
        }
      ]
    },
    {
      "cell_type": "code",
      "source": [
        "# Renaming categories\n",
        "df2.replace({'Product':\n",
        "                     {'Credit reporting, credit repair services, or other personal consumer reports':\n",
        "                          'CreditReporting',\n",
        "                      'Credit reporting': 'CreditReporting',\n",
        "                      'Credit card': 'CreditPrepaidCard',\n",
        "                      'Prepaid card': 'CreditPrepaidCard',\n",
        "                      'Credit card or prepaid card': 'CreditPrepaidCard',\n",
        "                      'Payday loan': 'PersonalLoan',\n",
        "                      'Payday loan, title loan, or personal loan' : 'PersonalLoan',\n",
        "                      'Money transfer': 'TransferServices',\n",
        "                      'Virtual currency': 'TransferServices',\n",
        "                      'Money transfer, virtual currency, or money service' : 'TransferServices',\n",
        "                      'Student loan': 'StudentLoan',\n",
        "                      'Checking or savings account': 'SavingsAccount',\n",
        "                      'Vehicle loan or lease': 'VehicleLoan',\n",
        "                      'Debt collection': 'DebtCollection',\n",
        "                      'Bank account or service' : 'BankAccount',\n",
        "                      'Other financial service': 'FinancialServices',\n",
        "                      'Consumer Loan': 'ConsumerLoan',\n",
        "                      'Money transfers': 'MoneyTransfers'}},\n",
        "                inplace=True)"
      ],
      "metadata": {
        "id": "Xl8e6dMQaZ46"
      },
      "execution_count": 10,
      "outputs": []
    },
    {
      "cell_type": "code",
      "source": [
        "print(pd.DataFrame(df2.Product.unique()))\n",
        "\n",
        "    # Create a new column 'category_id' with label-encoded categories\n",
        "le = preprocessing.LabelEncoder()\n",
        "df2['category_id'] = le.fit_transform(df2['Product'])\n",
        "\n",
        "category_id_df = df2[['Product', 'category_id']].drop_duplicates()\n",
        "print(df2.head())\n",
        "\n",
        "fig = plt.figure(figsize=(8, 6))\n",
        "colors = ['grey', 'grey', 'grey', 'grey', 'grey', 'grey', 'grey', 'grey', 'grey',\n",
        "              'grey', 'red', 'red', 'red']\n",
        "df2.groupby('Product').Consumer_complaint.count().sort_values().plot.barh(\n",
        "        ylim=0, color=colors, title='NUMBER OF COMPLAINTS IN EACH PRODUCT CATEGORY\\n')\n",
        "plt.xlabel('Number of ocurrences', fontsize=10)\n",
        "plt.show()\n",
        "\n",
        "product_comments = df2['Consumer_complaint'].values  # Collection of documents\n",
        "product_type = df2['category_id'].values # Target or the labels we want to predict (i.e., the 13 different complaints of products)\n",
        "\n",
        "print(\"Length of labels\" + str(len(product_type)))\n",
        "print(\"Length of product_comments\" + str(len(product_comments)))"
      ],
      "metadata": {
        "colab": {
          "base_uri": "https://localhost:8080/",
          "height": 954
        },
        "id": "JWt7HXF3abgX",
        "outputId": "6f434911-7350-4bbf-fb3f-58fa0e6ee9d5"
      },
      "execution_count": 11,
      "outputs": [
        {
          "output_type": "stream",
          "name": "stdout",
          "text": [
            "                    0\n",
            "0     CreditReporting\n",
            "1      DebtCollection\n",
            "2        ConsumerLoan\n",
            "3   CreditPrepaidCard\n",
            "4            Mortgage\n",
            "5         VehicleLoan\n",
            "6         StudentLoan\n",
            "7        PersonalLoan\n",
            "8      SavingsAccount\n",
            "9         BankAccount\n",
            "10   TransferServices\n",
            "11     MoneyTransfers\n",
            "12  FinancialServices\n",
            "                  Product                                 Consumer_complaint  \\\n",
            "310399    CreditReporting  Bayview completely ignored laws and is reporti...   \n",
            "186155    CreditReporting  inaccurate information no knowledge of account...   \n",
            "651135     DebtCollection  On XXXX/XXXX/2016 I received a notice from Con...   \n",
            "515233       ConsumerLoan  I have a loan with  Kia Motor Finance. I  rece...   \n",
            "641112  CreditPrepaidCard  I have a XXXX BIG card and made my payment whe...   \n",
            "\n",
            "        category_id  \n",
            "310399            3  \n",
            "186155            3  \n",
            "651135            4  \n",
            "515233            1  \n",
            "641112            2  \n"
          ]
        },
        {
          "output_type": "display_data",
          "data": {
            "text/plain": [
              "<Figure size 576x432 with 1 Axes>"
            ],
            "image/png": "[encoded data removed]"
          },
          "metadata": {
            "needs_background": "light"
          }
        },
        {
          "output_type": "stream",
          "name": "stdout",
          "text": [
            "Length of labels10000\n",
            "Length of product_comments10000\n"
          ]
        }
      ]
    },
    {
      "cell_type": "code",
      "source": [
        "complains = []\n",
        "labels = []\n",
        "for i in range(0, len(product_comments)): \n",
        "  complain = product_comments[i]\n",
        "  labels.append(product_type[i])\n",
        "  complain = complain.replace('XX', '')\n",
        "  complain = complain.replace('.', '')\n",
        "  for word in STOPWORDS:\n",
        "    token = ' ' + word + ' '\n",
        "    complain = complain.replace(token, ' ')\n",
        "    complain = complain.replace(' ', ' ')\n",
        "    complains.append(complain)"
      ],
      "metadata": {
        "id": "aLOBM9UtafAe"
      },
      "execution_count": 12,
      "outputs": []
    },
    {
      "cell_type": "code",
      "source": [
        "tokenizer = Tokenizer()\n",
        "tokenizer.fit_on_texts(complains)\n",
        "\n",
        "word_index = tokenizer.word_index\n",
        "vocab_size = len(word_index)\n",
        "sequences = tokenizer.texts_to_sequences(product_comments)\n",
        "padded = pad_sequences(sequences, maxlen=max_length)\n",
        "train_size = int(len(product_comments) * 0.7)\n",
        "validation_size = int(len(product_comments) * 0.2)\n",
        "\n",
        "training_sequences = padded[0:train_size]\n",
        "train_labels = labels[0:train_size]\n",
        "\n",
        "validation_sequences = padded[train_size:train_size+validation_size]\n",
        "validation_labels = labels[train_size:train_size+validation_size]\n",
        "\n",
        "test_sequences = padded[train_size + validation_size:]\n",
        "test_labels = labels[train_size + validation_size:]\n",
        "\n",
        "training_label_seq = np.reshape(np.array(train_labels), (len(train_labels), 1))\n",
        "validation_label_seq = np.reshape(np.array(validation_labels), (len(validation_labels), 1))\n",
        "test_label_seq = np.reshape(np.array(test_labels), (len(test_labels), 1))\n",
        "\n",
        "print(training_label_seq.shape)\n",
        "print(validation_label_seq.shape)\n",
        "print(test_label_seq.shape)\n",
        "\n",
        "print(training_sequences.shape)\n",
        "print(validation_sequences.shape)\n",
        "print(test_sequences.shape)\n",
        "\n",
        "print(vocab_size)\n",
        "print(word_index['i'])"
      ],
      "metadata": {
        "colab": {
          "base_uri": "https://localhost:8080/"
        },
        "id": "IIUIdz28ambJ",
        "outputId": "29b3946e-f037-4f70-db5d-878bf4b09cbe"
      },
      "execution_count": 13,
      "outputs": [
        {
          "output_type": "stream",
          "name": "stdout",
          "text": [
            "(7000, 1)\n",
            "(2000, 1)\n",
            "(1000, 1)\n",
            "(7000, 2000)\n",
            "(2000, 2000)\n",
            "(1000, 2000)\n",
            "20815\n",
            "1\n"
          ]
        }
      ]
    },
    {
      "cell_type": "code",
      "source": [
        "embeddings_index = {};\n",
        "with open('/content/drive/MyDrive/project_mod/glove.6B.100d.txt') as f:\n",
        "  for line in f:\n",
        "    values = line.split();\n",
        "    word = values[0];\n",
        "    coefs = np.asarray(values[1:], dtype='float32')\n",
        "    embeddings_index[word] = coefs;\n",
        "\n",
        "embeddings_matrix = np.zeros((vocab_size + 1, embedding_dim))\n",
        "for word, i in word_index.items():\n",
        "  embedding_vector = embeddings_index.get(word)\n",
        "  if embedding_vector is not None:\n",
        "    embeddings_matrix[i] = embedding_vector\n",
        "\n",
        "print(len(embeddings_matrix))"
      ],
      "metadata": {
        "colab": {
          "base_uri": "https://localhost:8080/"
        },
        "id": "mDW5DI5HbkxZ",
        "outputId": "fcb5e335-06b5-4085-fd00-941cff2a5b6a"
      },
      "execution_count": 14,
      "outputs": [
        {
          "output_type": "stream",
          "name": "stdout",
          "text": [
            "20816\n"
          ]
        }
      ]
    },
    {
      "cell_type": "code",
      "source": [
        "model = tf.keras.Sequential([\n",
        "                             tf.keras.layers.Embedding(vocab_size + 1, embedding_dim, input_length=max_length, weights=[embeddings_matrix],\n",
        "                                  trainable=False),\n",
        "        tf.keras.layers.Dropout(0.2),\n",
        "        tf.keras.layers.Conv1D(64, 5, activation='relu'),\n",
        "        tf.keras.layers.MaxPooling1D(pool_size=4),\n",
        "        tf.keras.layers.LSTM(64),\n",
        "        tf.keras.layers.Dense(13, activation='softmax')\n",
        "    ])\n",
        "model.compile(loss='sparse_categorical_crossentropy', optimizer='adam', metrics=['accuracy'])\n",
        "model.summary()"
      ],
      "metadata": {
        "colab": {
          "base_uri": "https://localhost:8080/"
        },
        "id": "LSjbeHtcbbkP",
        "outputId": "f1dd9731-1d31-4b12-de17-b9888507deb6"
      },
      "execution_count": 15,
      "outputs": [
        {
          "output_type": "stream",
          "name": "stdout",
          "text": [
            "Model: \"sequential\"\n",
            "_________________________________________________________________\n",
            " Layer (type)                Output Shape              Param #   \n",
            "=================================================================\n",
            " embedding (Embedding)       (None, 2000, 100)         2081600   \n",
            "                                                                 \n",
            " dropout (Dropout)           (None, 2000, 100)         0         \n",
            "                                                                 \n",
            " conv1d (Conv1D)             (None, 1996, 64)          32064     \n",
            "                                                                 \n",
            " max_pooling1d (MaxPooling1D  (None, 499, 64)          0         \n",
            " )                                                               \n",
            "                                                                 \n",
            " lstm (LSTM)                 (None, 64)                33024     \n",
            "                                                                 \n",
            " dense (Dense)               (None, 13)                845       \n",
            "                                                                 \n",
            "=================================================================\n",
            "Total params: 2,147,533\n",
            "Trainable params: 65,933\n",
            "Non-trainable params: 2,081,600\n",
            "_________________________________________________________________\n"
          ]
        }
      ]
    },
    {
      "cell_type": "code",
      "source": [
        "from absl import logging\n",
        "import collections\n",
        "\n",
        "from privacy.analysis import privacy_ledger\n",
        "from privacy.dp_query import gaussian_query\n",
        "\n",
        "def make_optimizer_class(cls):\n",
        "    \"\"\"Constructs a DP optimizer class from an existing one.\"\"\"\n",
        "    parent_code = tf.compat.v1.train.Optimizer.compute_gradients.__code__\n",
        "    child_code = cls.compute_gradients.__code__\n",
        "    GATE_OP = tf.compat.v1.train.Optimizer.GATE_OP  # pylint: disable=invalid-name\n",
        "    if child_code is not parent_code:\n",
        "         logging.warning(\n",
        "        'WARNING: Calling make_optimizer_class() on class %s that overrides '\n",
        "        'method compute_gradients(). Check to ensure that '\n",
        "        'make_optimizer_class() does not interfere with overridden version.',\n",
        "        cls.__name__)\n",
        "\n",
        "    class DPOptimizerClass(cls):\n",
        "        \"\"\"Differentially private subclass of given class cls.\"\"\"\n",
        "        _GlobalState = collections.namedtuple('_GlobalState', ['l2_norm_clip', 'stddev'])\n",
        "    \n",
        "        def __init__(self, dp_sum_query, num_microbatches=None, unroll_microbatches=False, *args,  # pylint: disable=keyword-arg-before-vararg, g-doc-args\n",
        "                     **kwargs):\n",
        "            \"\"\"Initialize the DPOptimizerClass.\n",
        "            Args:\n",
        "        dp_sum_query: DPQuery object, specifying differential privacy mechanism to use.\n",
        "        num_microbatches: How many microbatches into which the minibatch is\n",
        "          split. If None, will default to the size of the minibatch, and\n",
        "          per-example gradients will be computed.\n",
        "        unroll_microbatches: If true, processes microbatches within a Python\n",
        "          loop instead of a tf.while_loop. Can be used if using a tf.while_loop\n",
        "          raises an exception.\n",
        "            \"\"\"\n",
        "            super(DPOptimizerClass, self).__init__(*args, **kwargs)\n",
        "            self._dp_sum_query = dp_sum_query\n",
        "            self._num_microbatches = num_microbatches\n",
        "            self._global_state = self._dp_sum_query.initial_global_state()\n",
        "            # TODO(b/122613513): Set unroll_microbatches=True to avoid this bug.\n",
        "            # Beware: When num_microbatches is large (>100), enabling this parameter\n",
        "            # may cause an OOM error.\n",
        "            self._unroll_microbatches = unroll_microbatches\n",
        "\n",
        "        def compute_gradients(self, loss, var_list, gate_gradients=GATE_OP,\n",
        "                          aggregation_method=None, colocate_gradients_with_ops=False,\n",
        "                          grad_loss=None, gradient_tape=None, curr_noise_mult=0, curr_norm_clip=1):\n",
        "            self._dp_sum_query = gaussian_query.GaussianSumQuery(curr_norm_clip, \n",
        "                                                           curr_norm_clip*curr_noise_mult)\n",
        "            self._global_state = self._dp_sum_query.make_global_state(curr_norm_clip, \n",
        "                                                                curr_norm_clip*curr_noise_mult)\n",
        "            # TF is running in Eager mode, check we received a vanilla tape.\n",
        "            if not gradient_tape:\n",
        "                raise ValueError('When in Eager mode, a tape needs to be passed.')\n",
        "            vector_loss = loss()\n",
        "            if self._num_microbatches is None:\n",
        "                self._num_microbatches = tf.shape(input=vector_loss)[0]\n",
        "            sample_state = self._dp_sum_query.initial_sample_state(var_list)\n",
        "            microbatches_losses = tf.reshape(vector_loss, [self._num_microbatches, -1])\n",
        "            sample_params = (self._dp_sum_query.derive_sample_params(self._global_state))\n",
        "\n",
        "            def process_microbatch(i, sample_state):\n",
        "                \"\"\"Process one microbatch (record) with privacy helper.\"\"\"\n",
        "                microbatch_loss = tf.reduce_mean(input_tensor=tf.gather(microbatches_losses, [i]))\n",
        "                grads = gradient_tape.gradient(microbatch_loss, var_list)\n",
        "                sample_state = self._dp_sum_query.accumulate_record(sample_params, sample_state, grads)\n",
        "                return sample_state\n",
        "    \n",
        "            for idx in range(self._num_microbatches):\n",
        "                sample_state = process_microbatch(idx, sample_state)\n",
        "\n",
        "            if curr_noise_mult > 0:\n",
        "                grad_sums, self._global_state = (self._dp_sum_query.get_noised_result(sample_state, self._global_state))\n",
        "            else:\n",
        "                grad_sums = sample_state\n",
        "\n",
        "            def normalize(v):\n",
        "                return v / tf.cast(self._num_microbatches, tf.float32)\n",
        "\n",
        "            final_grads = tf.nest.map_structure(normalize, grad_sums)\n",
        "            grads_and_vars = final_grads #list(zip(final_grads, var_list))\n",
        "    \n",
        "            return grads_and_vars\n",
        "\n",
        "    return DPOptimizerClass\n",
        "\n",
        "def make_gaussian_optimizer_class(cls):\n",
        "    \"\"\"Constructs a DP optimizer with Gaussian averaging of updates.\"\"\"\n",
        "\n",
        "    class DPGaussianOptimizerClass(make_optimizer_class(cls)):\n",
        "        \"\"\"DP subclass of given class cls using Gaussian averaging.\"\"\"\n",
        "\n",
        "        def __init__(self, l2_norm_clip, noise_multiplier, num_microbatches=None,\n",
        "        ledger=None, unroll_microbatches=False,*args,  # pylint: disable=keyword-arg-before-vararg\n",
        "        **kwargs):\n",
        "            dp_sum_query = gaussian_query.GaussianSumQuery(l2_norm_clip, l2_norm_clip * noise_multiplier)\n",
        "\n",
        "            if ledger:\n",
        "              dp_sum_query = privacy_ledger.QueryWithLedger(dp_sum_query,ledger=ledger)\n",
        "\n",
        "            super(DPGaussianOptimizerClass, self).__init__(dp_sum_query, num_microbatches, unroll_microbatches,\n",
        "                  *args, **kwargs)\n",
        "\n",
        "        @property\n",
        "        def ledger(self):\n",
        "            return self._dp_sum_query.ledger\n",
        "\n",
        "    return DPGaussianOptimizerClass"
      ],
      "metadata": {
        "id": "KCFm3De4b0nD"
      },
      "execution_count": 16,
      "outputs": []
    },
    {
      "cell_type": "code",
      "source": [
        "GradientDescentOptimizer = tf.compat.v1.train.GradientDescentOptimizer\n",
        "DPGradientDescentGaussianOptimizer_NEW = make_gaussian_optimizer_class(GradientDescentOptimizer)\n",
        "\n",
        "optimizer = DPGradientDescentGaussianOptimizer_NEW(\n",
        "        l2_norm_clip=1.0,\n",
        "        noise_multiplier=1.1,\n",
        "        num_microbatches=25,\n",
        "        learning_rate=0.005)\n",
        "\n",
        "\n",
        "model.compile(loss='sparse_categorical_crossentropy', optimizer=optimizer, metrics=['accuracy'])\n",
        "model.summary()"
      ],
      "metadata": {
        "colab": {
          "base_uri": "https://localhost:8080/"
        },
        "id": "CCWjOf4HcLGz",
        "outputId": "178cc031-1bd0-4cbc-d870-5384f82e0f37"
      },
      "execution_count": 17,
      "outputs": [
        {
          "output_type": "stream",
          "name": "stdout",
          "text": [
            "Model: \"sequential\"\n",
            "_________________________________________________________________\n",
            " Layer (type)                Output Shape              Param #   \n",
            "=================================================================\n",
            " embedding (Embedding)       (None, 2000, 100)         2081600   \n",
            "                                                                 \n",
            " dropout (Dropout)           (None, 2000, 100)         0         \n",
            "                                                                 \n",
            " conv1d (Conv1D)             (None, 1996, 64)          32064     \n",
            "                                                                 \n",
            " max_pooling1d (MaxPooling1D  (None, 499, 64)          0         \n",
            " )                                                               \n",
            "                                                                 \n",
            " lstm (LSTM)                 (None, 64)                33024     \n",
            "                                                                 \n",
            " dense (Dense)               (None, 13)                845       \n",
            "                                                                 \n",
            "=================================================================\n",
            "Total params: 2,147,533\n",
            "Trainable params: 65,933\n",
            "Non-trainable params: 2,081,600\n",
            "_________________________________________________________________\n"
          ]
        }
      ]
    },
    {
      "cell_type": "code",
      "source": [
        "num_epochs = 10\n",
        "\n",
        "history = model.fit(training_sequences, training_label_seq, epochs=num_epochs,validation_data=(validation_sequences, validation_label_seq), verbose=2)\n",
        "\n",
        "plot_graphs(history, \"accuracy\")\n",
        "plot_graphs(history, \"loss\")\n",
        "\n",
        "scores = model.evaluate(test_sequences, test_label_seq, verbose=0)\n",
        "print(\"Accuracy: %.2f%%\" % (scores[1] * 100))\n",
        "\n",
        "output_test = model.predict(test_sequences)\n",
        "print(np.shape(output_test))\n",
        "final_pred = np.argmax(output_test, axis=1)\n",
        "print(np.shape(final_pred))\n",
        "print(np.shape(test_label_seq))\n",
        "final_pred_list = np.reshape(final_pred, (len(test_sequences), 1))\n",
        "print(np.shape(final_pred_list))\n",
        "\n",
        "results = confusion_matrix(test_label_seq, final_pred_list)\n",
        "print(results)"
      ],
      "metadata": {
        "colab": {
          "base_uri": "https://localhost:8080/",
          "height": 1000
        },
        "id": "33OITvYycO8i",
        "outputId": "b13f04e9-2aab-41f6-e3de-2e3dcb1da0e2"
      },
      "execution_count": 18,
      "outputs": [
        {
          "output_type": "stream",
          "name": "stdout",
          "text": [
            "Epoch 1/10\n",
            "219/219 - 145s - loss: 2.0413 - accuracy: 0.3191 - val_loss: 1.9754 - val_accuracy: 0.3160 - 145s/epoch - 661ms/step\n",
            "Epoch 2/10\n",
            "219/219 - 141s - loss: 1.9444 - accuracy: 0.3199 - val_loss: 1.9325 - val_accuracy: 0.3165 - 141s/epoch - 644ms/step\n",
            "Epoch 3/10\n",
            "219/219 - 141s - loss: 1.9023 - accuracy: 0.3244 - val_loss: 1.8792 - val_accuracy: 0.3170 - 141s/epoch - 643ms/step\n",
            "Epoch 4/10\n",
            "219/219 - 141s - loss: 1.8801 - accuracy: 0.3301 - val_loss: 1.9083 - val_accuracy: 0.3505 - 141s/epoch - 645ms/step\n",
            "Epoch 5/10\n",
            "219/219 - 143s - loss: 1.8526 - accuracy: 0.3416 - val_loss: 1.8718 - val_accuracy: 0.3615 - 143s/epoch - 655ms/step\n",
            "Epoch 6/10\n",
            "219/219 - 147s - loss: 1.8725 - accuracy: 0.3326 - val_loss: 1.8716 - val_accuracy: 0.3465 - 147s/epoch - 670ms/step\n",
            "Epoch 7/10\n",
            "219/219 - 145s - loss: 1.8460 - accuracy: 0.3451 - val_loss: 1.7797 - val_accuracy: 0.3475 - 145s/epoch - 662ms/step\n",
            "Epoch 8/10\n",
            "219/219 - 143s - loss: 1.8813 - accuracy: 0.3316 - val_loss: 1.8773 - val_accuracy: 0.3580 - 143s/epoch - 654ms/step\n",
            "Epoch 9/10\n",
            "219/219 - 142s - loss: 1.8321 - accuracy: 0.3563 - val_loss: 1.7725 - val_accuracy: 0.3790 - 142s/epoch - 648ms/step\n",
            "Epoch 10/10\n",
            "219/219 - 142s - loss: 1.7803 - accuracy: 0.3851 - val_loss: 1.9200 - val_accuracy: 0.2985 - 142s/epoch - 650ms/step\n"
          ]
        },
        {
          "output_type": "display_data",
          "data": {
            "text/plain": [
              "<Figure size 432x288 with 1 Axes>"
            ],
            "image/png": "[encoded data removed]"
          },
          "metadata": {
            "needs_background": "light"
          }
        },
        {
          "output_type": "display_data",
          "data": {
            "text/plain": [
              "<Figure size 432x288 with 1 Axes>"
            ],
            "image/png": "[encoded data removed]"
          },
          "metadata": {
            "needs_background": "light"
          }
        },
        {
          "output_type": "stream",
          "name": "stdout",
          "text": [
            "Accuracy: 29.80%\n",
            "(1000, 13)\n",
            "(1000,)\n",
            "(1000, 1)\n",
            "(1000, 1)\n",
            "[[  0   0   2   1   3   0   0  29   0   0   0   0   0]\n",
            " [  0   0   0   2   4   0   0  31   0   0   0   0   0]\n",
            " [  0   0   2   0  25   0   0  84   0   0   0   0   0]\n",
            " [  0   0   6  67 143   0   0  85   0   0   0   0   0]\n",
            " [  0   0   4  18  95   0   0  87   0   0   0   0   0]\n",
            " [  0   0   0   0   1   0   0   1   0   0   0   0   0]\n",
            " [  0   0   1   0   3   0   0   3   0   0   0   0   0]\n",
            " [  0   0   2   6  20   0   0 134   0   0   0   0   0]\n",
            " [  0   0   1   0   6   0   0  11   0   0   0   0   0]\n",
            " [  0   0   0   2   7   0   0  28   0   0   0   0   0]\n",
            " [  0   0   1   3   8   0   0  48   0   0   0   0   0]\n",
            " [  0   0   0   0   3   0   0   5   0   0   0   0   0]\n",
            " [  0   0   1   2   5   0   0  10   0   0   0   0   0]]\n"
          ]
        }
      ]
    },
    {
      "cell_type": "code",
      "source": [
        "eps = compute_epsilon(60 * 60000 // 250)\n",
        "print('For delta=1e-5, the  epsilon is: %.2f' % eps)\n"
      ],
      "metadata": {
        "colab": {
          "base_uri": "https://localhost:8080/"
        },
        "id": "KXinxuK6zo_K",
        "outputId": "180c085e-ade0-4509-b67f-8a8090a14f42"
      },
      "execution_count": 20,
      "outputs": [
        {
          "output_type": "stream",
          "name": "stdout",
          "text": [
            "For delta=1e-5, the  epsilon is: 2.97\n"
          ]
        }
      ]
    }
  ]
}