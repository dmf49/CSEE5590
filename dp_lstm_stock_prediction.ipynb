{
  "nbformat": 4,
  "nbformat_minor": 0,
  "metadata": {
    "colab": {
      "name": "dp-lstm-stock-prediction.ipynb",
      "provenance": [],
      "collapsed_sections": []
    },
    "kernelspec": {
      "name": "python3",
      "display_name": "Python 3"
    },
    "language_info": {
      "name": "python"
    }
  },
  "cells": [
    {
      "cell_type": "code",
      "execution_count": 1,
      "metadata": {
        "colab": {
          "base_uri": "https://localhost:8080/"
        },
        "id": "j-iHLzYVclnz",
        "outputId": "8f247520-4c0d-43fb-9bc6-9e99e27f41fa"
      },
      "outputs": [
        {
          "output_type": "stream",
          "name": "stderr",
          "text": [
            "/usr/local/lib/python3.7/dist-packages/statsmodels/tools/_testing.py:19: FutureWarning: pandas.util.testing is deprecated. Use the functions in the public API at pandas.testing instead.\n",
            "  import pandas.util.testing as tm\n"
          ]
        }
      ],
      "source": [
        "import tensorflow as tf\n",
        "\n",
        "import json\n",
        "import time\n",
        "import math\n",
        "import matplotlib.pyplot as plt\n",
        "import numpy as np\n",
        "import pandas as pd\n",
        "import datetime as dt\n",
        "from numpy import newaxis\n",
        "from keras.layers import Dense, Activation, Dropout, LSTM\n",
        "from keras.models import Sequential, load_model\n",
        "from keras.callbacks import EarlyStopping, ModelCheckpoint\n",
        "from sklearn.linear_model import LinearRegression\n",
        "from sklearn.ensemble import RandomForestRegressor\n",
        "from sklearn.linear_model import Ridge\n",
        "\n",
        "from math import pi,sqrt,exp,pow,log\n",
        "from numpy.linalg import det, inv\n",
        "from abc import ABCMeta, abstractmethod\n",
        "from sklearn import cluster\n",
        "\n",
        "import statsmodels.api as sm \n",
        "import scipy.stats as scs\n",
        "import scipy.optimize as sco\n",
        "import scipy.interpolate as sci\n",
        "from scipy import stats"
      ]
    },
    {
      "cell_type": "code",
      "source": [
        "from google.colab import drive\n",
        "drive.mount('/content/drive')\n"
      ],
      "metadata": {
        "colab": {
          "base_uri": "https://localhost:8080/"
        },
        "id": "VdXzDgPtfnEU",
        "outputId": "4a4b27a8-beb2-4ba2-8956-af1fe354e4ef"
      },
      "execution_count": 2,
      "outputs": [
        {
          "output_type": "stream",
          "name": "stdout",
          "text": [
            "Mounted at /content/drive\n"
          ]
        }
      ]
    },
    {
      "cell_type": "code",
      "source": [
        "df = pd.read_csv(\"/content/drive/MyDrive/project/source_price.csv\")\n"
      ],
      "metadata": {
        "id": "mrXj_As1gRW_"
      },
      "execution_count": 3,
      "outputs": []
    },
    {
      "cell_type": "code",
      "source": [
        "df"
      ],
      "metadata": {
        "colab": {
          "base_uri": "https://localhost:8080/",
          "height": 423
        },
        "id": "iQqw-shEgmOD",
        "outputId": "ec0f6b30-3d1c-44c4-c5a9-29c7f23e7e25"
      },
      "execution_count": 6,
      "outputs": [
        {
          "output_type": "execute_result",
          "data": {
            "text/plain": [
              "           date  wsj_mean_compound  cnbc_mean_compound  fortune_mean_compound  \\\n",
              "0     2017/12/7           0.296000           -0.136600               0.000000   \n",
              "1     2017/12/8           0.000000            0.000000              -0.242300   \n",
              "2    2017/12/11           0.000000            0.000000               0.000000   \n",
              "3    2017/12/12           0.000000            0.000000               0.000000   \n",
              "4    2017/12/13           0.000000            0.000000               0.000000   \n",
              "..          ...                ...                 ...                    ...   \n",
              "116   2018/5/25           0.030290            0.047433               0.011550   \n",
              "117   2018/5/29          -0.052796            0.070442              -0.025721   \n",
              "118   2018/5/30          -0.017367            0.038119              -0.076965   \n",
              "119   2018/5/31          -0.018636            0.057371              -0.064138   \n",
              "120    2018/6/1           0.000000           -0.061150               0.361200   \n",
              "\n",
              "     reuters_mean_compound    Adj Close  \n",
              "0                 0.000000  2636.979980  \n",
              "1                 0.000000  2651.500000  \n",
              "2                 0.000000  2659.989990  \n",
              "3                 0.000000  2664.110107  \n",
              "4                 0.000000  2662.850098  \n",
              "..                     ...          ...  \n",
              "116              -0.025190  2721.330078  \n",
              "117              -0.035568  2689.860107  \n",
              "118              -0.063177  2724.010010  \n",
              "119              -0.025489  2705.270020  \n",
              "120              -0.004489  2734.620117  \n",
              "\n",
              "[121 rows x 6 columns]"
            ],
            "text/html": [
              "\n",
              "  <div id=\"df-c0557b8c-8121-436c-95fe-94ac3efbd9d9\">\n",
              "    <div class=\"colab-df-container\">\n",
              "      <div>\n",
              "<style scoped>\n",
              "    .dataframe tbody tr th:only-of-type {\n",
              "        vertical-align: middle;\n",
              "    }\n",
              "\n",
              "    .dataframe tbody tr th {\n",
              "        vertical-align: top;\n",
              "    }\n",
              "\n",
              "    .dataframe thead th {\n",
              "        text-align: right;\n",
              "    }\n",
              "</style>\n",
              "<table border=\"1\" class=\"dataframe\">\n",
              "  <thead>\n",
              "    <tr style=\"text-align: right;\">\n",
              "      <th></th>\n",
              "      <th>date</th>\n",
              "      <th>wsj_mean_compound</th>\n",
              "      <th>cnbc_mean_compound</th>\n",
              "      <th>fortune_mean_compound</th>\n",
              "      <th>reuters_mean_compound</th>\n",
              "      <th>Adj Close</th>\n",
              "    </tr>\n",
              "  </thead>\n",
              "  <tbody>\n",
              "    <tr>\n",
              "      <th>0</th>\n",
              "      <td>2017/12/7</td>\n",
              "      <td>0.296000</td>\n",
              "      <td>-0.136600</td>\n",
              "      <td>0.000000</td>\n",
              "      <td>0.000000</td>\n",
              "      <td>2636.979980</td>\n",
              "    </tr>\n",
              "    <tr>\n",
              "      <th>1</th>\n",
              "      <td>2017/12/8</td>\n",
              "      <td>0.000000</td>\n",
              "      <td>0.000000</td>\n",
              "      <td>-0.242300</td>\n",
              "      <td>0.000000</td>\n",
              "      <td>2651.500000</td>\n",
              "    </tr>\n",
              "    <tr>\n",
              "      <th>2</th>\n",
              "      <td>2017/12/11</td>\n",
              "      <td>0.000000</td>\n",
              "      <td>0.000000</td>\n",
              "      <td>0.000000</td>\n",
              "      <td>0.000000</td>\n",
              "      <td>2659.989990</td>\n",
              "    </tr>\n",
              "    <tr>\n",
              "      <th>3</th>\n",
              "      <td>2017/12/12</td>\n",
              "      <td>0.000000</td>\n",
              "      <td>0.000000</td>\n",
              "      <td>0.000000</td>\n",
              "      <td>0.000000</td>\n",
              "      <td>2664.110107</td>\n",
              "    </tr>\n",
              "    <tr>\n",
              "      <th>4</th>\n",
              "      <td>2017/12/13</td>\n",
              "      <td>0.000000</td>\n",
              "      <td>0.000000</td>\n",
              "      <td>0.000000</td>\n",
              "      <td>0.000000</td>\n",
              "      <td>2662.850098</td>\n",
              "    </tr>\n",
              "    <tr>\n",
              "      <th>...</th>\n",
              "      <td>...</td>\n",
              "      <td>...</td>\n",
              "      <td>...</td>\n",
              "      <td>...</td>\n",
              "      <td>...</td>\n",
              "      <td>...</td>\n",
              "    </tr>\n",
              "    <tr>\n",
              "      <th>116</th>\n",
              "      <td>2018/5/25</td>\n",
              "      <td>0.030290</td>\n",
              "      <td>0.047433</td>\n",
              "      <td>0.011550</td>\n",
              "      <td>-0.025190</td>\n",
              "      <td>2721.330078</td>\n",
              "    </tr>\n",
              "    <tr>\n",
              "      <th>117</th>\n",
              "      <td>2018/5/29</td>\n",
              "      <td>-0.052796</td>\n",
              "      <td>0.070442</td>\n",
              "      <td>-0.025721</td>\n",
              "      <td>-0.035568</td>\n",
              "      <td>2689.860107</td>\n",
              "    </tr>\n",
              "    <tr>\n",
              "      <th>118</th>\n",
              "      <td>2018/5/30</td>\n",
              "      <td>-0.017367</td>\n",
              "      <td>0.038119</td>\n",
              "      <td>-0.076965</td>\n",
              "      <td>-0.063177</td>\n",
              "      <td>2724.010010</td>\n",
              "    </tr>\n",
              "    <tr>\n",
              "      <th>119</th>\n",
              "      <td>2018/5/31</td>\n",
              "      <td>-0.018636</td>\n",
              "      <td>0.057371</td>\n",
              "      <td>-0.064138</td>\n",
              "      <td>-0.025489</td>\n",
              "      <td>2705.270020</td>\n",
              "    </tr>\n",
              "    <tr>\n",
              "      <th>120</th>\n",
              "      <td>2018/6/1</td>\n",
              "      <td>0.000000</td>\n",
              "      <td>-0.061150</td>\n",
              "      <td>0.361200</td>\n",
              "      <td>-0.004489</td>\n",
              "      <td>2734.620117</td>\n",
              "    </tr>\n",
              "  </tbody>\n",
              "</table>\n",
              "<p>121 rows × 6 columns</p>\n",
              "</div>\n",
              "      <button class=\"colab-df-convert\" onclick=\"convertToInteractive('df-c0557b8c-8121-436c-95fe-94ac3efbd9d9')\"\n",
              "              title=\"Convert this dataframe to an interactive table.\"\n",
              "              style=\"display:none;\">\n",
              "        \n",
              "  <svg xmlns=\"http://www.w3.org/2000/svg\" height=\"24px\"viewBox=\"0 0 24 24\"\n",
              "       width=\"24px\">\n",
              "    <path d=\"M0 0h24v24H0V0z\" fill=\"none\"/>\n",
              "    <path d=\"M18.56 5.44l.94 2.06.94-2.06 2.06-.94-2.06-.94-.94-2.06-.94 2.06-2.06.94zm-11 1L8.5 8.5l.94-2.06 2.06-.94-2.06-.94L8.5 2.5l-.94 2.06-2.06.94zm10 10l.94 2.06.94-2.06 2.06-.94-2.06-.94-.94-2.06-.94 2.06-2.06.94z\"/><path d=\"M17.41 7.96l-1.37-1.37c-.4-.4-.92-.59-1.43-.59-.52 0-1.04.2-1.43.59L10.3 9.45l-7.72 7.72c-.78.78-.78 2.05 0 2.83L4 21.41c.39.39.9.59 1.41.59.51 0 1.02-.2 1.41-.59l7.78-7.78 2.81-2.81c.8-.78.8-2.07 0-2.86zM5.41 20L4 18.59l7.72-7.72 1.47 1.35L5.41 20z\"/>\n",
              "  </svg>\n",
              "      </button>\n",
              "      \n",
              "  <style>\n",
              "    .colab-df-container {\n",
              "      display:flex;\n",
              "      flex-wrap:wrap;\n",
              "      gap: 12px;\n",
              "    }\n",
              "\n",
              "    .colab-df-convert {\n",
              "      background-color: #E8F0FE;\n",
              "      border: none;\n",
              "      border-radius: 50%;\n",
              "      cursor: pointer;\n",
              "      display: none;\n",
              "      fill: #1967D2;\n",
              "      height: 32px;\n",
              "      padding: 0 0 0 0;\n",
              "      width: 32px;\n",
              "    }\n",
              "\n",
              "    .colab-df-convert:hover {\n",
              "      background-color: #E2EBFA;\n",
              "      box-shadow: 0px 1px 2px rgba(60, 64, 67, 0.3), 0px 1px 3px 1px rgba(60, 64, 67, 0.15);\n",
              "      fill: #174EA6;\n",
              "    }\n",
              "\n",
              "    [theme=dark] .colab-df-convert {\n",
              "      background-color: #3B4455;\n",
              "      fill: #D2E3FC;\n",
              "    }\n",
              "\n",
              "    [theme=dark] .colab-df-convert:hover {\n",
              "      background-color: #434B5C;\n",
              "      box-shadow: 0px 1px 3px 1px rgba(0, 0, 0, 0.15);\n",
              "      filter: drop-shadow(0px 1px 2px rgba(0, 0, 0, 0.3));\n",
              "      fill: #FFFFFF;\n",
              "    }\n",
              "  </style>\n",
              "\n",
              "      <script>\n",
              "        const buttonEl =\n",
              "          document.querySelector('#df-c0557b8c-8121-436c-95fe-94ac3efbd9d9 button.colab-df-convert');\n",
              "        buttonEl.style.display =\n",
              "          google.colab.kernel.accessAllowed ? 'block' : 'none';\n",
              "\n",
              "        async function convertToInteractive(key) {\n",
              "          const element = document.querySelector('#df-c0557b8c-8121-436c-95fe-94ac3efbd9d9');\n",
              "          const dataTable =\n",
              "            await google.colab.kernel.invokeFunction('convertToInteractive',\n",
              "                                                     [key], {});\n",
              "          if (!dataTable) return;\n",
              "\n",
              "          const docLinkHtml = 'Like what you see? Visit the ' +\n",
              "            '<a target=\"_blank\" href=https://colab.research.google.com/notebooks/data_table.ipynb>data table notebook</a>'\n",
              "            + ' to learn more about interactive tables.';\n",
              "          element.innerHTML = '';\n",
              "          dataTable['output_type'] = 'display_data';\n",
              "          await google.colab.output.renderOutput(dataTable, element);\n",
              "          const docLink = document.createElement('div');\n",
              "          docLink.innerHTML = docLinkHtml;\n",
              "          element.appendChild(docLink);\n",
              "        }\n",
              "      </script>\n",
              "    </div>\n",
              "  </div>\n",
              "  "
            ]
          },
          "metadata": {},
          "execution_count": 6
        }
      ]
    },
    {
      "cell_type": "code",
      "source": [
        "wsj_var=np.var(df.wsj_mean_compound)\n",
        "cnbc_var=np.var(df.cnbc_mean_compound)\n",
        "fortune_var=np.var(df.fortune_mean_compound)\n",
        "reuters_var=np.var(df.reuters_mean_compound)"
      ],
      "metadata": {
        "id": "xZBIQDPBgivS"
      },
      "execution_count": 4,
      "outputs": []
    },
    {
      "cell_type": "code",
      "source": [
        "mu=0\n",
        "\n",
        "noise=0.1\n"
      ],
      "metadata": {
        "id": "45kdiA7Tgv3C"
      },
      "execution_count": 5,
      "outputs": []
    },
    {
      "cell_type": "code",
      "source": [
        "sigma_wsj=noise*wsj_var\n",
        "sigma_cnbc=noise*cnbc_var\n",
        "sigma_fortune=noise*fortune_var\n",
        "sigma_reuters=noise*reuters_var"
      ],
      "metadata": {
        "id": "CQeO3MoQSV_F"
      },
      "execution_count": 6,
      "outputs": []
    },
    {
      "cell_type": "code",
      "source": [
        "n=df.shape[0]\n",
        "\n",
        "df_noise=pd.DataFrame()"
      ],
      "metadata": {
        "id": "7gNMcmIVScVz"
      },
      "execution_count": 7,
      "outputs": []
    },
    {
      "cell_type": "code",
      "source": [
        "df_noise['wsj_noise']=df['wsj_mean_compound']\n",
        "df_noise['cnbc_noise']=df['cnbc_mean_compound']\n",
        "df_noise['fortune_noise']=df['fortune_mean_compound']\n",
        "df_noise['reuters_noise']=df['reuters_mean_compound']"
      ],
      "metadata": {
        "id": "ZOFEekCrSdiz"
      },
      "execution_count": 8,
      "outputs": []
    },
    {
      "cell_type": "code",
      "source": [
        "\n",
        "for i in range(0,n):\n",
        "    df_noise['wsj_noise'][i]+=np.random.normal(mu,sigma_wsj)\n",
        "    df_noise['cnbc_noise'][i]+=np.random.normal(mu,sigma_cnbc)\n",
        "    df_noise['fortune_noise'][i]+=np.random.normal(mu,sigma_fortune)\n",
        "    df_noise['reuters_noise'][i]+=np.random.normal(mu,sigma_reuters)"
      ],
      "metadata": {
        "id": "c2DNUxzNSjWP"
      },
      "execution_count": 9,
      "outputs": []
    },
    {
      "cell_type": "code",
      "source": [
        "df_noise.to_csv(\"/content/drive/MyDrive/project/source_price_noise0.csv\")"
      ],
      "metadata": {
        "id": "QTWnrkUPSm0V"
      },
      "execution_count": 10,
      "outputs": []
    },
    {
      "cell_type": "code",
      "source": [
        "dfn=pd.read_csv(\"/content/drive/MyDrive/project/source_price_noise0.csv\",index_col=0)  \n"
      ],
      "metadata": {
        "id": "Ck1Kj_wWTYUS"
      },
      "execution_count": 11,
      "outputs": []
    },
    {
      "cell_type": "code",
      "source": [
        "df_1n=pd.DataFrame()\n",
        "df_1n['wsj']=dfn['wsj_noise']\n",
        "df_1n['cnbc']=df['cnbc_mean_compound']\n",
        "df_1n['fortune']=df['fortune_mean_compound']\n",
        "df_1n['reuters']=df['reuters_mean_compound']\n",
        "df_1n['price']=df['Adj Close']"
      ],
      "metadata": {
        "id": "GpQC3_qoTjdN"
      },
      "execution_count": 12,
      "outputs": []
    },
    {
      "cell_type": "code",
      "source": [
        "df_2n=pd.DataFrame()\n",
        "df_2n['wsj']=df['wsj_mean_compound']\n",
        "df_2n['cnbc']=dfn['cnbc_noise']\n",
        "df_2n['fortune']=df['fortune_mean_compound']\n",
        "df_2n['reuters']=df['reuters_mean_compound']\n",
        "df_2n['price']=df['Adj Close']\n",
        "\n",
        "df_3n=pd.DataFrame()\n",
        "df_3n['wsj']=df['wsj_mean_compound']\n",
        "df_3n['cnbc']=df['cnbc_mean_compound']\n",
        "df_3n['fortune']=dfn['fortune_noise']\n",
        "df_3n['reuters']=df['reuters_mean_compound']\n",
        "df_3n['price']=df['Adj Close']\n",
        "\n",
        "df_4n=pd.DataFrame()\n",
        "df_4n['wsj']=df['wsj_mean_compound']\n",
        "df_4n['cnbc']=df['cnbc_mean_compound']\n",
        "df_4n['fortune']=df['fortune_mean_compound']\n",
        "df_4n['reuters']=dfn['reuters_noise']\n",
        "df_4n['price']=df['Adj Close']\n",
        "\n",
        "df1=df_1n\n",
        "df2=df_2n\n",
        "df3=df_3n\n",
        "df4=df_4n"
      ],
      "metadata": {
        "id": "lhQCQimETk3s"
      },
      "execution_count": 13,
      "outputs": []
    },
    {
      "cell_type": "code",
      "source": [
        "split = (0.85)\n",
        "sequence_length=10;\n",
        "normalise= True\n",
        "batch_size=100;\n",
        "input_dim=5\n",
        "input_timesteps=9\n",
        "neurons=50\n",
        "epochs=100\n",
        "prediction_len=1\n",
        "dense_output=1\n",
        "drop_out=0"
      ],
      "metadata": {
        "id": "HMomEqHFTuPS"
      },
      "execution_count": 31,
      "outputs": []
    },
    {
      "cell_type": "code",
      "source": [
        "i_split = int(len(df1) * split)\n",
        "\n",
        "cols = ['price','wsj','cnbc','fortune','reuters']\n",
        "data_train_1 = df1.get(cols).values[:i_split]\n",
        "data_train_2 = df2.get(cols).values[:i_split]\n",
        "data_train_3 = df3.get(cols).values[:i_split]\n",
        "data_train_4 = df4.get(cols).values[:i_split]\n",
        "\n",
        "len_train  = len(data_train_1)\n",
        "len_train_windows = None"
      ],
      "metadata": {
        "id": "YAL1tOxaTyXT"
      },
      "execution_count": 15,
      "outputs": []
    },
    {
      "cell_type": "code",
      "source": [
        "#get_train_data \n",
        "data_windows = []\n",
        "for i in range(len_train - sequence_length):\n",
        "    data_windows.append(data_train_1[i:i+sequence_length])\n",
        "data_windows = np.array(data_windows).astype(float)\n",
        "  \n",
        "window_data=data_windows\n",
        "win_num=window_data.shape[0]\n",
        "col_num=window_data.shape[2]\n",
        "\n",
        "normalised_data = []\n",
        "record_min=[]\n",
        "record_max=[]"
      ],
      "metadata": {
        "id": "H146DpiUTzk3"
      },
      "execution_count": 16,
      "outputs": []
    },
    {
      "cell_type": "code",
      "source": [
        "for win_i in range(0,win_num):\n",
        "    normalised_window = []\n",
        "    for col_i in range(0,1):#col_num):\n",
        "      temp_col=window_data[win_i,:,col_i]\n",
        "      temp_min=min(temp_col)\n",
        "      if col_i==0:\n",
        "        record_min.append(temp_min)#record min\n",
        "      temp_col=temp_col-temp_min\n",
        "      temp_max=max(temp_col)\n",
        "      if col_i==0:\n",
        "        record_max.append(temp_max)#record max\n",
        "      temp_col=temp_col/temp_max\n",
        "      normalised_window.append(temp_col)\n",
        "    for col_i in range(1,col_num):\n",
        "      temp_col=window_data[win_i,:,col_i]\n",
        "      normalised_window.append(temp_col)\n",
        "    normalised_window = np.array(normalised_window).T\n",
        "    normalised_data.append(normalised_window)\n",
        "normalised_data=np.array(normalised_data)\n",
        "\n",
        "# normalised_data=window_data\n",
        "data_windows=normalised_data\n",
        "x_train1 = data_windows[:, :-1]\n",
        "y_train1 = data_windows[:, -1,[0]]\n",
        "print('x_train1.shape',x_train1.shape)\n",
        "print('y_train1.shape',y_train1.shape)"
      ],
      "metadata": {
        "colab": {
          "base_uri": "https://localhost:8080/"
        },
        "id": "kz2Td2UAT5As",
        "outputId": "5dd0eebf-f681-4268-86ee-df5f2a31ec55"
      },
      "execution_count": 17,
      "outputs": [
        {
          "output_type": "stream",
          "name": "stdout",
          "text": [
            "x_train1.shape (92, 9, 5)\n",
            "y_train1.shape (92, 1)\n"
          ]
        }
      ]
    },
    {
      "cell_type": "code",
      "source": [
        "#get_train_data \n",
        "data_windows = []\n",
        "for i in range(len_train - sequence_length):\n",
        "    data_windows.append(data_train_2[i:i+sequence_length])\n",
        "data_windows = np.array(data_windows).astype(float)\n",
        "  \n",
        "window_data=data_windows\n",
        "win_num=window_data.shape[0]\n",
        "col_num=window_data.shape[2]\n",
        "\n",
        "normalised_data = []\n",
        "record_min=[]\n",
        "record_max=[]\n",
        "\n",
        "for win_i in range(0,win_num):\n",
        "    normalised_window = []\n",
        "    for col_i in range(0,1):#col_num):\n",
        "      temp_col=window_data[win_i,:,col_i]\n",
        "      temp_min=min(temp_col)\n",
        "      if col_i==0:\n",
        "        record_min.append(temp_min)#record min\n",
        "      temp_col=temp_col-temp_min\n",
        "      temp_max=max(temp_col)\n",
        "      if col_i==0:\n",
        "        record_max.append(temp_max)#record max\n",
        "      temp_col=temp_col/temp_max\n",
        "      normalised_window.append(temp_col)\n",
        "    for col_i in range(1,col_num):\n",
        "      temp_col=window_data[win_i,:,col_i]\n",
        "      normalised_window.append(temp_col)\n",
        "    normalised_window = np.array(normalised_window).T\n",
        "    normalised_data.append(normalised_window)\n",
        "normalised_data=np.array(normalised_data)\n",
        "\n",
        "# normalised_data=window_data\n",
        "data_windows=normalised_data\n",
        "x_train2 = data_windows[:, :-1]\n",
        "y_train2 = data_windows[:, -1,[0]]\n",
        "print('x_train2.shape',x_train2.shape)\n",
        "print('y_train2.shape',y_train2.shape)\n"
      ],
      "metadata": {
        "colab": {
          "base_uri": "https://localhost:8080/"
        },
        "id": "g65A6w8dT-AB",
        "outputId": "0e820651-1817-4699-d7a8-6a2487ab0c30"
      },
      "execution_count": 18,
      "outputs": [
        {
          "output_type": "stream",
          "name": "stdout",
          "text": [
            "x_train2.shape (92, 9, 5)\n",
            "y_train2.shape (92, 1)\n"
          ]
        }
      ]
    },
    {
      "cell_type": "code",
      "source": [
        "#get_train_data \n",
        "data_windows = []\n",
        "for i in range(len_train - sequence_length):\n",
        "    data_windows.append(data_train_3[i:i+sequence_length])\n",
        "data_windows = np.array(data_windows).astype(float)\n",
        "  \n",
        "window_data=data_windows\n",
        "win_num=window_data.shape[0]\n",
        "col_num=window_data.shape[2]\n",
        "\n",
        "normalised_data = []\n",
        "record_min=[]\n",
        "record_max=[]\n",
        "\n",
        "for win_i in range(0,win_num):\n",
        "    normalised_window = []\n",
        "    for col_i in range(0,1):#col_num):\n",
        "      temp_col=window_data[win_i,:,col_i]\n",
        "      temp_min=min(temp_col)\n",
        "      if col_i==0:\n",
        "        record_min.append(temp_min)#record min\n",
        "      temp_col=temp_col-temp_min\n",
        "      temp_max=max(temp_col)\n",
        "      if col_i==0:\n",
        "        record_max.append(temp_max)#record max\n",
        "      temp_col=temp_col/temp_max\n",
        "      normalised_window.append(temp_col)\n",
        "    for col_i in range(1,col_num):\n",
        "      temp_col=window_data[win_i,:,col_i]\n",
        "      normalised_window.append(temp_col)\n",
        "    normalised_window = np.array(normalised_window).T\n",
        "    normalised_data.append(normalised_window)\n",
        "normalised_data=np.array(normalised_data)\n",
        "\n",
        "# normalised_data=window_data\n",
        "data_windows=normalised_data\n",
        "x_train3 = data_windows[:, :-1]\n",
        "y_train3 = data_windows[:, -1,[0]]\n",
        "print('x_train3.shape',x_train3.shape)\n",
        "print('y_train3.shape',y_train3.shape)"
      ],
      "metadata": {
        "colab": {
          "base_uri": "https://localhost:8080/"
        },
        "id": "q4UiZ12XUG6t",
        "outputId": "3ecc27cf-607e-4efa-c725-a63d6cfd3344"
      },
      "execution_count": 19,
      "outputs": [
        {
          "output_type": "stream",
          "name": "stdout",
          "text": [
            "x_train3.shape (92, 9, 5)\n",
            "y_train3.shape (92, 1)\n"
          ]
        }
      ]
    },
    {
      "cell_type": "code",
      "source": [
        "#get_train_data \n",
        "\n",
        "data_windows = []\n",
        "for i in range(len_train - sequence_length):\n",
        "    data_windows.append(data_train_4[i:i+sequence_length])\n",
        "data_windows = np.array(data_windows).astype(float)\n",
        "  \n",
        "window_data=data_windows\n",
        "win_num=window_data.shape[0]\n",
        "col_num=window_data.shape[2]\n",
        "\n",
        "normalised_data = []\n",
        "record_min=[]\n",
        "record_max=[]\n",
        "\n",
        "for win_i in range(0,win_num):\n",
        "    normalised_window = []\n",
        "    for col_i in range(0,1):#col_num):\n",
        "      temp_col=window_data[win_i,:,col_i]\n",
        "      temp_min=min(temp_col)\n",
        "      if col_i==0:\n",
        "        record_min.append(temp_min)#record min\n",
        "      temp_col=temp_col-temp_min\n",
        "      temp_max=max(temp_col)\n",
        "      if col_i==0:\n",
        "        record_max.append(temp_max)#record max\n",
        "      temp_col=temp_col/temp_max\n",
        "      normalised_window.append(temp_col)\n",
        "    for col_i in range(1,col_num):\n",
        "      temp_col=window_data[win_i,:,col_i]\n",
        "      normalised_window.append(temp_col)\n",
        "    normalised_window = np.array(normalised_window).T\n",
        "    normalised_data.append(normalised_window)\n",
        "normalised_data=np.array(normalised_data)\n",
        "\n",
        "# normalised_data=window_data\n",
        "data_windows=normalised_data\n",
        "x_train4 = data_windows[:, :-1]\n",
        "y_train4 = data_windows[:, -1,[0]]\n",
        "print('x_train4.shape',x_train4.shape)\n",
        "print('y_train4.shape',y_train4.shape)"
      ],
      "metadata": {
        "colab": {
          "base_uri": "https://localhost:8080/"
        },
        "id": "m73ntshhUIY5",
        "outputId": "593affd8-9a63-4e78-855c-561307f7df57"
      },
      "execution_count": 20,
      "outputs": [
        {
          "output_type": "stream",
          "name": "stdout",
          "text": [
            "x_train4.shape (92, 9, 5)\n",
            "y_train4.shape (92, 1)\n"
          ]
        }
      ]
    },
    {
      "cell_type": "code",
      "source": [
        "##concat train window\n",
        "type(x_train4)"
      ],
      "metadata": {
        "colab": {
          "base_uri": "https://localhost:8080/"
        },
        "id": "6GKonWD8UNAS",
        "outputId": "a908efaa-d4f0-4adf-b7cf-0f46970800a8"
      },
      "execution_count": 21,
      "outputs": [
        {
          "output_type": "execute_result",
          "data": {
            "text/plain": [
              "numpy.ndarray"
            ]
          },
          "metadata": {},
          "execution_count": 21
        }
      ]
    },
    {
      "cell_type": "code",
      "source": [
        "x_train_t=np.concatenate((x_train1,x_train2,x_train3,x_train4),axis=0)\n",
        "print(x_train_t.shape)\n",
        "x_train=x_train_t\n",
        "\n",
        "y_train_t=np.concatenate((y_train1,y_train2,y_train3,y_train4),axis=0)\n",
        "print(y_train_t.shape)\n",
        "y_train=y_train_t"
      ],
      "metadata": {
        "colab": {
          "base_uri": "https://localhost:8080/"
        },
        "id": "dWydQRCMUQk1",
        "outputId": "b534398b-8341-4700-827a-728bee82fa9a"
      },
      "execution_count": 22,
      "outputs": [
        {
          "output_type": "stream",
          "name": "stdout",
          "text": [
            "(368, 9, 5)\n",
            "(368, 1)\n"
          ]
        }
      ]
    },
    {
      "cell_type": "code",
      "source": [
        "dataframe= pd.read_csv(\"/content/drive/MyDrive/project/source_price.csv\")\n",
        "dataframe.columns=['date','wsj','cnbc','fortune','reuters','price']\n",
        "cols = ['price','wsj','cnbc','fortune','reuters']\n",
        "len_dataframe=dataframe.shape[0]\n",
        "\n",
        "i_split = int(len(dataframe) * split)\n",
        "data_test  = dataframe.get(cols).values[i_split:]\n",
        "\n",
        "len_test   = len(data_test)\n",
        "len_train_windows = None\n",
        "\n",
        "print('data_test.shape',data_test.shape)"
      ],
      "metadata": {
        "colab": {
          "base_uri": "https://localhost:8080/"
        },
        "id": "Ar5cH4XGUfS7",
        "outputId": "1b8856ce-3363-4b47-d92b-3ebc92cc7a91"
      },
      "execution_count": 23,
      "outputs": [
        {
          "output_type": "stream",
          "name": "stdout",
          "text": [
            "data_test.shape (19, 5)\n"
          ]
        }
      ]
    },
    {
      "cell_type": "code",
      "source": [
        "data_windows = []\n",
        "for i in range(len_test - sequence_length):\n",
        "    data_windows.append(data_test[i:i+sequence_length])\n",
        "\n",
        "data_windows = np.array(data_windows).astype(float)\n",
        "\n",
        "y_test_ori = data_windows[:, -1, [0]]\n",
        "print('y_test_ori.shape',y_test_ori.shape)"
      ],
      "metadata": {
        "colab": {
          "base_uri": "https://localhost:8080/"
        },
        "id": "9PhjQEpFUn87",
        "outputId": "3fea9b56-207c-4cdf-d304-b107e9291139"
      },
      "execution_count": 24,
      "outputs": [
        {
          "output_type": "stream",
          "name": "stdout",
          "text": [
            "y_test_ori.shape (9, 1)\n"
          ]
        }
      ]
    },
    {
      "cell_type": "code",
      "source": [
        "y_test_ori\n"
      ],
      "metadata": {
        "colab": {
          "base_uri": "https://localhost:8080/"
        },
        "id": "TFV5YL-_Uxm_",
        "outputId": "3aad8b8c-cc26-410a-c936-bd2fde2aae9d"
      },
      "execution_count": 25,
      "outputs": [
        {
          "output_type": "execute_result",
          "data": {
            "text/plain": [
              "array([[2712.969971],\n",
              "       [2733.01001 ],\n",
              "       [2724.439941],\n",
              "       [2733.290039],\n",
              "       [2727.76001 ],\n",
              "       [2721.330078],\n",
              "       [2689.860107],\n",
              "       [2724.01001 ],\n",
              "       [2705.27002 ]])"
            ]
          },
          "metadata": {},
          "execution_count": 25
        }
      ]
    },
    {
      "cell_type": "code",
      "source": [
        "window_data=data_windows\n",
        "win_num=window_data.shape[0]\n",
        "col_num=window_data.shape[2]\n",
        "normalised_data = []\n",
        "record_min=[]\n",
        "record_max=[]\n",
        "\n",
        "#normalize\n",
        "for win_i in range(0,win_num):\n",
        "    normalised_window = []\n",
        "    for col_i in range(0,1):#col_num):\n",
        "      temp_col=window_data[win_i,:,col_i]\n",
        "      temp_min=min(temp_col)\n",
        "      if col_i==0:\n",
        "        record_min.append(temp_min)#record min\n",
        "      temp_col=temp_col-temp_min\n",
        "      temp_max=max(temp_col)\n",
        "      if col_i==0:\n",
        "        record_max.append(temp_max)#record max\n",
        "      temp_col=temp_col/temp_max\n",
        "      normalised_window.append(temp_col)\n",
        "    for col_i in range(1,col_num):\n",
        "      temp_col=window_data[win_i,:,col_i]\n",
        "      normalised_window.append(temp_col)\n",
        "    normalised_window = np.array(normalised_window).T\n",
        "    normalised_data.append(normalised_window)\n",
        "normalised_data=np.array(normalised_data)\n",
        "\n",
        "# normalised_data=window_data\n",
        "data_windows=normalised_data#get_test_data\n",
        "x_test = data_windows[:, :-1]\n",
        "y_test = data_windows[:, -1, [0]]\n",
        "print('x_test.shape',x_test.shape)\n",
        "print('y_test.shape',y_test.shape)"
      ],
      "metadata": {
        "colab": {
          "base_uri": "https://localhost:8080/"
        },
        "id": "wdXmrruhU2N1",
        "outputId": "c1588fbc-2863-4d8c-ee0a-a21e3018f610"
      },
      "execution_count": 26,
      "outputs": [
        {
          "output_type": "stream",
          "name": "stdout",
          "text": [
            "x_test.shape (9, 9, 5)\n",
            "y_test.shape (9, 1)\n"
          ]
        }
      ]
    },
    {
      "cell_type": "code",
      "source": [
        "# LSTM MODEL\n",
        "model = Sequential()\n",
        "model.add(LSTM(neurons, input_shape=(input_timesteps, input_dim), return_sequences = True))\n",
        "model.add(Dropout(drop_out))\n",
        "model.add(LSTM(neurons,return_sequences = True))\n",
        "model.add(LSTM(neurons,return_sequences =False))\n",
        "model.add(Dropout(drop_out))\n",
        "model.add(Dense(dense_output, activation='linear'))\n",
        "# Compile model\n",
        "model.compile(loss='mean_squared_error',\n",
        "                optimizer='adam')\n",
        "# Fit the model\n",
        "model.fit(x_train,y_train,epochs=epochs,batch_size=batch_size)"
      ],
      "metadata": {
        "colab": {
          "base_uri": "https://localhost:8080/"
        },
        "id": "lhxZHyD1U7AZ",
        "outputId": "50f660cd-71d9-4bdb-d124-f11693461ffb"
      },
      "execution_count": 32,
      "outputs": [
        {
          "output_type": "stream",
          "name": "stdout",
          "text": [
            "Epoch 1/100\n",
            "4/4 [==============================] - 5s 27ms/step - loss: 0.4151\n",
            "Epoch 2/100\n",
            "4/4 [==============================] - 0s 25ms/step - loss: 0.2918\n",
            "Epoch 3/100\n",
            "4/4 [==============================] - 0s 25ms/step - loss: 0.2197\n",
            "Epoch 4/100\n",
            "4/4 [==============================] - 0s 29ms/step - loss: 0.2168\n",
            "Epoch 5/100\n",
            "4/4 [==============================] - 0s 25ms/step - loss: 0.1886\n",
            "Epoch 6/100\n",
            "4/4 [==============================] - 0s 23ms/step - loss: 0.1807\n",
            "Epoch 7/100\n",
            "4/4 [==============================] - 0s 28ms/step - loss: 0.1714\n",
            "Epoch 8/100\n",
            "4/4 [==============================] - 0s 25ms/step - loss: 0.1590\n",
            "Epoch 9/100\n",
            "4/4 [==============================] - 0s 27ms/step - loss: 0.1554\n",
            "Epoch 10/100\n",
            "4/4 [==============================] - 0s 25ms/step - loss: 0.1467\n",
            "Epoch 11/100\n",
            "4/4 [==============================] - 0s 25ms/step - loss: 0.1364\n",
            "Epoch 12/100\n",
            "4/4 [==============================] - 0s 25ms/step - loss: 0.1247\n",
            "Epoch 13/100\n",
            "4/4 [==============================] - 0s 26ms/step - loss: 0.1062\n",
            "Epoch 14/100\n",
            "4/4 [==============================] - 0s 25ms/step - loss: 0.0872\n",
            "Epoch 15/100\n",
            "4/4 [==============================] - 0s 23ms/step - loss: 0.0767\n",
            "Epoch 16/100\n",
            "4/4 [==============================] - 0s 23ms/step - loss: 0.0820\n",
            "Epoch 17/100\n",
            "4/4 [==============================] - 0s 24ms/step - loss: 0.0782\n",
            "Epoch 18/100\n",
            "4/4 [==============================] - 0s 26ms/step - loss: 0.0740\n",
            "Epoch 19/100\n",
            "4/4 [==============================] - 0s 24ms/step - loss: 0.0752\n",
            "Epoch 20/100\n",
            "4/4 [==============================] - 0s 25ms/step - loss: 0.0750\n",
            "Epoch 21/100\n",
            "4/4 [==============================] - 0s 26ms/step - loss: 0.0740\n",
            "Epoch 22/100\n",
            "4/4 [==============================] - 0s 26ms/step - loss: 0.0740\n",
            "Epoch 23/100\n",
            "4/4 [==============================] - 0s 25ms/step - loss: 0.0730\n",
            "Epoch 24/100\n",
            "4/4 [==============================] - 0s 24ms/step - loss: 0.0726\n",
            "Epoch 25/100\n",
            "4/4 [==============================] - 0s 24ms/step - loss: 0.0727\n",
            "Epoch 26/100\n",
            "4/4 [==============================] - 0s 29ms/step - loss: 0.0728\n",
            "Epoch 27/100\n",
            "4/4 [==============================] - 0s 23ms/step - loss: 0.0716\n",
            "Epoch 28/100\n",
            "4/4 [==============================] - 0s 26ms/step - loss: 0.0721\n",
            "Epoch 29/100\n",
            "4/4 [==============================] - 0s 25ms/step - loss: 0.0716\n",
            "Epoch 30/100\n",
            "4/4 [==============================] - 0s 23ms/step - loss: 0.0711\n",
            "Epoch 31/100\n",
            "4/4 [==============================] - 0s 22ms/step - loss: 0.0710\n",
            "Epoch 32/100\n",
            "4/4 [==============================] - 0s 23ms/step - loss: 0.0709\n",
            "Epoch 33/100\n",
            "4/4 [==============================] - 0s 25ms/step - loss: 0.0707\n",
            "Epoch 34/100\n",
            "4/4 [==============================] - 0s 26ms/step - loss: 0.0707\n",
            "Epoch 35/100\n",
            "4/4 [==============================] - 0s 25ms/step - loss: 0.0711\n",
            "Epoch 36/100\n",
            "4/4 [==============================] - 0s 23ms/step - loss: 0.0712\n",
            "Epoch 37/100\n",
            "4/4 [==============================] - 0s 27ms/step - loss: 0.0712\n",
            "Epoch 38/100\n",
            "4/4 [==============================] - 0s 23ms/step - loss: 0.0720\n",
            "Epoch 39/100\n",
            "4/4 [==============================] - 0s 24ms/step - loss: 0.0726\n",
            "Epoch 40/100\n",
            "4/4 [==============================] - 0s 25ms/step - loss: 0.0703\n",
            "Epoch 41/100\n",
            "4/4 [==============================] - 0s 25ms/step - loss: 0.0711\n",
            "Epoch 42/100\n",
            "4/4 [==============================] - 0s 23ms/step - loss: 0.0736\n",
            "Epoch 43/100\n",
            "4/4 [==============================] - 0s 25ms/step - loss: 0.0709\n",
            "Epoch 44/100\n",
            "4/4 [==============================] - 0s 23ms/step - loss: 0.0709\n",
            "Epoch 45/100\n",
            "4/4 [==============================] - 0s 28ms/step - loss: 0.0702\n",
            "Epoch 46/100\n",
            "4/4 [==============================] - 0s 24ms/step - loss: 0.0708\n",
            "Epoch 47/100\n",
            "4/4 [==============================] - 0s 23ms/step - loss: 0.0703\n",
            "Epoch 48/100\n",
            "4/4 [==============================] - 0s 27ms/step - loss: 0.0698\n",
            "Epoch 49/100\n",
            "4/4 [==============================] - 0s 23ms/step - loss: 0.0696\n",
            "Epoch 50/100\n",
            "4/4 [==============================] - 0s 32ms/step - loss: 0.0721\n",
            "Epoch 51/100\n",
            "4/4 [==============================] - 0s 24ms/step - loss: 0.0721\n",
            "Epoch 52/100\n",
            "4/4 [==============================] - 0s 24ms/step - loss: 0.0712\n",
            "Epoch 53/100\n",
            "4/4 [==============================] - 0s 26ms/step - loss: 0.0702\n",
            "Epoch 54/100\n",
            "4/4 [==============================] - 0s 28ms/step - loss: 0.0710\n",
            "Epoch 55/100\n",
            "4/4 [==============================] - 0s 25ms/step - loss: 0.0703\n",
            "Epoch 56/100\n",
            "4/4 [==============================] - 0s 27ms/step - loss: 0.0704\n",
            "Epoch 57/100\n",
            "4/4 [==============================] - 0s 24ms/step - loss: 0.0696\n",
            "Epoch 58/100\n",
            "4/4 [==============================] - 0s 26ms/step - loss: 0.0689\n",
            "Epoch 59/100\n",
            "4/4 [==============================] - 0s 26ms/step - loss: 0.0727\n",
            "Epoch 60/100\n",
            "4/4 [==============================] - 0s 24ms/step - loss: 0.0707\n",
            "Epoch 61/100\n",
            "4/4 [==============================] - 0s 25ms/step - loss: 0.0699\n",
            "Epoch 62/100\n",
            "4/4 [==============================] - 0s 23ms/step - loss: 0.0690\n",
            "Epoch 63/100\n",
            "4/4 [==============================] - 0s 26ms/step - loss: 0.0700\n",
            "Epoch 64/100\n",
            "4/4 [==============================] - 0s 24ms/step - loss: 0.0706\n",
            "Epoch 65/100\n",
            "4/4 [==============================] - 0s 25ms/step - loss: 0.0699\n",
            "Epoch 66/100\n",
            "4/4 [==============================] - 0s 26ms/step - loss: 0.0710\n",
            "Epoch 67/100\n",
            "4/4 [==============================] - 0s 25ms/step - loss: 0.0692\n",
            "Epoch 68/100\n",
            "4/4 [==============================] - 0s 25ms/step - loss: 0.0692\n",
            "Epoch 69/100\n",
            "4/4 [==============================] - 0s 25ms/step - loss: 0.0693\n",
            "Epoch 70/100\n",
            "4/4 [==============================] - 0s 27ms/step - loss: 0.0686\n",
            "Epoch 71/100\n",
            "4/4 [==============================] - 0s 24ms/step - loss: 0.0687\n",
            "Epoch 72/100\n",
            "4/4 [==============================] - 0s 24ms/step - loss: 0.0697\n",
            "Epoch 73/100\n",
            "4/4 [==============================] - 0s 29ms/step - loss: 0.0708\n",
            "Epoch 74/100\n",
            "4/4 [==============================] - 0s 23ms/step - loss: 0.0680\n",
            "Epoch 75/100\n",
            "4/4 [==============================] - 0s 27ms/step - loss: 0.0696\n",
            "Epoch 76/100\n",
            "4/4 [==============================] - 0s 25ms/step - loss: 0.0700\n",
            "Epoch 77/100\n",
            "4/4 [==============================] - 0s 25ms/step - loss: 0.0681\n",
            "Epoch 78/100\n",
            "4/4 [==============================] - 0s 26ms/step - loss: 0.0686\n",
            "Epoch 79/100\n",
            "4/4 [==============================] - 0s 23ms/step - loss: 0.0685\n",
            "Epoch 80/100\n",
            "4/4 [==============================] - 0s 27ms/step - loss: 0.0690\n",
            "Epoch 81/100\n",
            "4/4 [==============================] - 0s 23ms/step - loss: 0.0700\n",
            "Epoch 82/100\n",
            "4/4 [==============================] - 0s 27ms/step - loss: 0.0689\n",
            "Epoch 83/100\n",
            "4/4 [==============================] - 0s 24ms/step - loss: 0.0700\n",
            "Epoch 84/100\n",
            "4/4 [==============================] - 0s 26ms/step - loss: 0.0701\n",
            "Epoch 85/100\n",
            "4/4 [==============================] - 0s 25ms/step - loss: 0.0690\n",
            "Epoch 86/100\n",
            "4/4 [==============================] - 0s 24ms/step - loss: 0.0684\n",
            "Epoch 87/100\n",
            "4/4 [==============================] - 0s 24ms/step - loss: 0.0693\n",
            "Epoch 88/100\n",
            "4/4 [==============================] - 0s 27ms/step - loss: 0.0692\n",
            "Epoch 89/100\n",
            "4/4 [==============================] - 0s 23ms/step - loss: 0.0725\n",
            "Epoch 90/100\n",
            "4/4 [==============================] - 0s 27ms/step - loss: 0.0698\n",
            "Epoch 91/100\n",
            "4/4 [==============================] - 0s 25ms/step - loss: 0.0698\n",
            "Epoch 92/100\n",
            "4/4 [==============================] - 0s 24ms/step - loss: 0.0683\n",
            "Epoch 93/100\n",
            "4/4 [==============================] - 0s 25ms/step - loss: 0.0699\n",
            "Epoch 94/100\n",
            "4/4 [==============================] - 0s 25ms/step - loss: 0.0697\n",
            "Epoch 95/100\n",
            "4/4 [==============================] - 0s 26ms/step - loss: 0.0687\n",
            "Epoch 96/100\n",
            "4/4 [==============================] - 0s 23ms/step - loss: 0.0688\n",
            "Epoch 97/100\n",
            "4/4 [==============================] - 0s 24ms/step - loss: 0.0672\n",
            "Epoch 98/100\n",
            "4/4 [==============================] - 0s 27ms/step - loss: 0.0681\n",
            "Epoch 99/100\n",
            "4/4 [==============================] - 0s 23ms/step - loss: 0.0674\n",
            "Epoch 100/100\n",
            "4/4 [==============================] - 0s 26ms/step - loss: 0.0674\n"
          ]
        },
        {
          "output_type": "execute_result",
          "data": {
            "text/plain": [
              "<keras.callbacks.History at 0x7f5a63fb1110>"
            ]
          },
          "metadata": {},
          "execution_count": 32
        }
      ]
    },
    {
      "cell_type": "code",
      "source": [
        "#multi sequence predict\n",
        "data=x_test\n",
        "prediction_seqs = []\n",
        "window_size=sequence_length\n",
        "pre_win_num=int(len(data)/prediction_len)\n",
        "\n",
        "for i in range(0,pre_win_num):\n",
        "    curr_frame = data[i*prediction_len]\n",
        "    predicted = []\n",
        "    for j in range(0,prediction_len):\n",
        "      temp=model.predict(curr_frame[newaxis,:,:])[0]\n",
        "      predicted.append(temp)\n",
        "      curr_frame = curr_frame[1:]\n",
        "      curr_frame = np.insert(curr_frame, [window_size-2], predicted[-1], axis=0)\n",
        "    prediction_seqs.append(predicted)"
      ],
      "metadata": {
        "id": "y5zr1ONJVSmj"
      },
      "execution_count": 33,
      "outputs": []
    },
    {
      "cell_type": "code",
      "source": [
        "#de_predicted\n",
        "de_predicted=[]\n",
        "len_pre_win=int(len(data)/prediction_len)\n",
        "len_pre=prediction_len\n",
        "\n",
        "m=0\n",
        "for i in range(0,len_pre_win):\n",
        "    for j in range(0,len_pre):\n",
        "      de_predicted.append(prediction_seqs[i][j][0]*record_max[m]+record_min[m])\n",
        "      m=m+1\n",
        "print(de_predicted)"
      ],
      "metadata": {
        "colab": {
          "base_uri": "https://localhost:8080/"
        },
        "id": "Yht-Em8hVYPT",
        "outputId": "d49f352b-11d6-43f4-b550-dac7eea28186"
      },
      "execution_count": 34,
      "outputs": [
        {
          "output_type": "stream",
          "name": "stdout",
          "text": [
            "[2702.1449154568845, 2692.817959580754, 2712.298598234405, 2722.516507989063, 2722.966211181776, 2723.889213462677, 2701.5745506449425, 2697.799188951983, 2697.624951146796]\n"
          ]
        }
      ]
    },
    {
      "cell_type": "code",
      "source": [
        "error = []\n",
        "diff=y_test.shape[0]-prediction_len*pre_win_num\n",
        "\n",
        "for i in range(y_test_ori.shape[0]-diff):\n",
        "    error.append(y_test_ori[i,] - de_predicted[i])\n",
        "    \n",
        "squaredError = []\n",
        "absError = []\n",
        "for val in error:\n",
        "    squaredError.append(val * val) \n",
        "    absError.append(abs(val))\n",
        "\n",
        "error_percent=[]\n",
        "for i in range(len(error)):\n",
        "    val=absError[i]/y_test_ori[i,]\n",
        "    val=abs(val)\n",
        "    error_percent.append(val)\n",
        "\n",
        "mean_error_percent=sum(error_percent) / len(error_percent)\n",
        "accuracy=1-mean_error_percent\n",
        "\n",
        "MSE=sum(squaredError) / len(squaredError)\n",
        "\n",
        "print(\"MSE\",MSE)\n",
        "print('accuracy',accuracy)\n",
        "print('mean_error_percent',mean_error_percent)"
      ],
      "metadata": {
        "colab": {
          "base_uri": "https://localhost:8080/"
        },
        "id": "1DVJX-OIVeL7",
        "outputId": "b9fe8c74-1b2e-48cb-ecd2-c81885b785af"
      },
      "execution_count": 30,
      "outputs": [
        {
          "output_type": "stream",
          "name": "stdout",
          "text": [
            "MSE [211.58897463]\n",
            "accuracy [0.99560259]\n",
            "mean_error_percent [0.00439741]\n"
          ]
        }
      ]
    }
  ]
}